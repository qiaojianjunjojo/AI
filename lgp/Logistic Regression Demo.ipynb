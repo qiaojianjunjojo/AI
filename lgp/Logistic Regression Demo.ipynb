{
 "cells": [
  {
   "cell_type": "markdown",
   "metadata": {},
   "source": [
    "## 样本数据 data.csv"
   ]
  },
  {
   "cell_type": "markdown",
   "metadata": {},
   "source": [
    "![jupyter](data.png)"
   ]
  },
  {
   "cell_type": "code",
   "execution_count": 15,
   "metadata": {},
   "outputs": [],
   "source": [
    "import numpy as np\n",
    "import matplotlib.pyplot as plt\n",
    "import scipy.optimize as opt"
   ]
  },
  {
   "cell_type": "code",
   "execution_count": 16,
   "metadata": {},
   "outputs": [],
   "source": [
    "def load_data(data_file):\n",
    "    data = np.loadtxt(open(data_file, 'rb'), delimiter = ',', skiprows = 1, usecols = (1,2,3))\n",
    "    X = data[:, 0:2]\n",
    "    X = np.append(X, np.reshape(X[:,0] * X[:,1], (X.shape[0], 1)), axis = 1)\n",
    "    Y = data[:, 2]\n",
    "    Y = np.reshape(Y, (Y.shape[0], 1))\n",
    "    return X, Y"
   ]
  },
  {
   "cell_type": "code",
   "execution_count": 17,
   "metadata": {},
   "outputs": [],
   "source": [
    "def plot_data(X, Y, image):\n",
    "    positive = np.where(Y == 1)\n",
    "    negative = np.where(Y == 0)\n",
    "    #plt.plot(X[positive,0], X[positive, 1], 'ro', label = 'positive')\n",
    "    #plt.plot(X[negative, 0], X[negative, 1], 'gx', label = 'negative')\n",
    "    plt.scatter(X[positive,0], X[positive, 1], marker = 'o', c = 'r')\n",
    "    plt.scatter(X[negative, 0], X[negative, 1], marker = 'o', c = 'g')\n",
    "    plt.xlabel('grade1')\n",
    "    plt.ylabel('grade2')\n",
    "    plt.legend(['positive', 'negative'])\n",
    "    #plt.savefig(image)\n",
    "    #plt.clf()"
   ]
  },
  {
   "cell_type": "code",
   "execution_count": 18,
   "metadata": {},
   "outputs": [],
   "source": [
    "def sigmoid(x):\n",
    "    rs = 1.0 / (1.0 + np.exp(-x))\n",
    "    for (i, j), value in np.ndenumerate(rs):\n",
    "        if value < 1.0e-10:\n",
    "            rs[i][j] = 1.0e-10\n",
    "        elif value > 1.0 - 1.0e-10:\n",
    "            rs[i][j] = 1.0 - 1.0e-10\n",
    "    return rs"
   ]
  },
  {
   "cell_type": "code",
   "execution_count": 19,
   "metadata": {},
   "outputs": [],
   "source": [
    "def cost(theta, x, y, lam = 0.):\n",
    "    m = x.shape[0]\n",
    "    theta = np.reshape(theta, (len(theta), 1))\n",
    "    lamb = theta.copy()\n",
    "    lamb[0][0] = 0.\n",
    "    J = (-1.0 / m) * (y.T.dot(np.log(sigmoid(x.dot(theta)))) + (1 - y).T.dot(np.log(1 - sigmoid(x.dot(theta))))) + lam / (2 * m) * lamb.T.dot(lamb)\n",
    "    #grad = (1.0 / m) * (np.transpose(x).dot(sigmoid(x.dot(theta) - y)))# + (lam / m) * lamb\n",
    "    #print J\n",
    "    return J[0][0]"
   ]
  },
  {
   "cell_type": "code",
   "execution_count": 20,
   "metadata": {},
   "outputs": [],
   "source": [
    "def grad(theta, x, y, lam = 0.):\n",
    "    m = x.shape[0]\n",
    "    theta = np.reshape(theta, (len(theta), 1))\n",
    "    lamb = theta.copy()\n",
    "    lamb[0][0] = 0.\n",
    "    grad = (1.0 / m) * (x.T.dot(sigmoid(x.dot(theta) - y))) + (lam / m) * lamb\n",
    "    grad = grad.flatten()\n",
    "    return grad"
   ]
  },
  {
   "cell_type": "code",
   "execution_count": 21,
   "metadata": {},
   "outputs": [],
   "source": [
    "def plot_boundary(theta):\n",
    "    x1 = np.arange(-1.0, 1.0, 0.001)\n",
    "    x2 = -(theta[0] + theta[1] * x1) / (theta[2] + theta[3] * x1)\n",
    "    plt.plot(x1, x2)\n",
    "    plt.savefig('boundary01.png')\n",
    "    plt.clf()"
   ]
  },
  {
   "cell_type": "code",
   "execution_count": 22,
   "metadata": {},
   "outputs": [],
   "source": [
    "def plot_boundary2(theta):\n",
    "    x1 = np.arange(-1.0, 1.0, 0.001)\n",
    "    x2 = -(theta[0] + theta[1] * x1) / theta[2]\n",
    "    plt.plot(x1, x2)\n",
    "    plt.savefig('linear.png')\n",
    "    plt.clf()"
   ]
  },
  {
   "cell_type": "code",
   "execution_count": 23,
   "metadata": {},
   "outputs": [],
   "source": [
    "def main():\n",
    "    X, Y = load_data('data2.csv')\n",
    "    plot_data(X, Y, 'data.PNG')\n",
    "\n",
    "    theta = np.random.randn(4)\n",
    "    #theta = [-0.09602962, 0.05465897, -0.25948405, -0.88592286]\n",
    "    #print theta\n",
    "    X_new = np.append(np.ones((X.shape[0], 1)), X, axis = 1)\n",
    "    #theta_final = opt.fmin_tnc(cost, theta, fprime = grad, args = (X_new, Y))\n",
    "    theta_final = opt.fmin_tnc(cost, theta, fprime = grad, args = (X_new, Y), approx_grad = True, epsilon = 0.001, maxfun = 10000)\n",
    "    theta_final = theta_final[0]\n",
    "    print(theta_final)\n",
    "    plot_boundary(theta_final)"
   ]
  },
  {
   "cell_type": "code",
   "execution_count": 24,
   "metadata": {},
   "outputs": [
    {
     "name": "stdout",
     "output_type": "stream",
     "text": [
      "[160.72388595 423.90947624 416.18208473 346.62835459]\n"
     ]
    },
    {
     "data": {
      "text/plain": [
       "<Figure size 432x288 with 0 Axes>"
      ]
     },
     "metadata": {},
     "output_type": "display_data"
    }
   ],
   "source": [
    "if __name__ == \"__main__\":\n",
    "    main()"
   ]
  },
  {
   "cell_type": "code",
   "execution_count": null,
   "metadata": {},
   "outputs": [],
   "source": []
  },
  {
   "cell_type": "code",
   "execution_count": null,
   "metadata": {},
   "outputs": [],
   "source": []
  },
  {
   "cell_type": "code",
   "execution_count": null,
   "metadata": {},
   "outputs": [],
   "source": []
  },
  {
   "cell_type": "code",
   "execution_count": null,
   "metadata": {},
   "outputs": [],
   "source": []
  },
  {
   "cell_type": "code",
   "execution_count": null,
   "metadata": {},
   "outputs": [],
   "source": []
  },
  {
   "cell_type": "code",
   "execution_count": null,
   "metadata": {},
   "outputs": [],
   "source": []
  }
 ],
 "metadata": {
  "kernelspec": {
   "display_name": "Python 3",
   "language": "python",
   "name": "python3"
  },
  "language_info": {
   "codemirror_mode": {
    "name": "ipython",
    "version": 3
   },
   "file_extension": ".py",
   "mimetype": "text/x-python",
   "name": "python",
   "nbconvert_exporter": "python",
   "pygments_lexer": "ipython3",
   "version": "3.6.9"
  }
 },
 "nbformat": 4,
 "nbformat_minor": 2
}
