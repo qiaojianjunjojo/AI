{
 "cells": [
  {
   "cell_type": "markdown",
   "metadata": {},
   "source": [
    "# Demo1"
   ]
  },
  {
   "cell_type": "code",
   "execution_count": 6,
   "metadata": {},
   "outputs": [],
   "source": [
    "import numpy as np"
   ]
  },
  {
   "cell_type": "code",
   "execution_count": 7,
   "metadata": {},
   "outputs": [],
   "source": [
    "def linear_regression(x_arr, y_arr, lam=0.2):\n",
    "    x_mat = np.mat(x_arr).T\n",
    "    y_mat = np.mat(y_arr).T\n",
    " \n",
    "    x_tx = x_mat.T * x_mat\n",
    "    denom = x_tx + np.eye(np.shape(x_mat)[1]) * lam\n",
    " \n",
    "    # if lam == 0.0\n",
    "    if np.linalg.det(denom) == 0.0:\n",
    "        print('This matrix is singular, cannot do inverse')\n",
    "        return\n",
    " \n",
    "    ws = denom.I * (x_mat.T * y_mat)\n",
    "    return ws\n",
    "\n"
   ]
  },
  {
   "cell_type": "code",
   "execution_count": 10,
   "metadata": {},
   "outputs": [
    {
     "name": "stdout",
     "output_type": "stream",
     "text": [
      "18.58464400176286\n"
     ]
    }
   ],
   "source": [
    "if __name__ == '__main__':\n",
    "    x_vals = np.linspace(0, 1, 1000)\n",
    "    y_vals = x_vals + np.random.normal(0, 1, 1000)\n",
    "    ws = linear_regression(x_vals, y_vals)\n",
    " \n",
    "    predict = 20 * ws\n",
    "    print(predict.A[0][0])\n",
    "\n",
    "#我们构造了x和y使其尽可能满足x=y，不过在其中加入了标准正态分布的噪声，求出ws之后，我们预测了x=20的y值"
   ]
  },
  {
   "cell_type": "code",
   "execution_count": null,
   "metadata": {},
   "outputs": [],
   "source": []
  },
  {
   "cell_type": "markdown",
   "metadata": {},
   "source": [
    "## Demo 2\n",
    "用梯度下降求线性回归问题"
   ]
  },
  {
   "cell_type": "code",
   "execution_count": 11,
   "metadata": {},
   "outputs": [],
   "source": [
    "\n",
    "import numpy as np\n",
    "import tensorflow as tf\n",
    " \n",
    " \n",
    "learning_rate = 0.05\n",
    "batch_size = 50\n",
    " \n",
    "x_vals = np.linspace(0, 1, 1000)\n",
    "y_vals = x_vals + np.random.normal(0, 1, 1000)\n",
    "x_vals.resize((x_vals.shape[0], 1))\n",
    "y_vals.resize((y_vals.shape[0], 1))\n"
   ]
  },
  {
   "cell_type": "code",
   "execution_count": 15,
   "metadata": {},
   "outputs": [],
   "source": [
    "sess = tf.Session()\n",
    "x_data = tf.placeholder(shape=[None, 1], dtype=tf.float32)\n",
    "y_target = tf.placeholder(shape=[None, 1], dtype=tf.float32)\n",
    "w = tf.Variable(tf.random_normal([1, 1]))\n",
    "model_output = tf.matmul(x_data, w)\n"
   ]
  },
  {
   "cell_type": "markdown",
   "metadata": {},
   "source": [
    "### 定义均方误差，然后使用梯度下降法进行优化，求取最小值"
   ]
  },
  {
   "cell_type": "code",
   "execution_count": 16,
   "metadata": {},
   "outputs": [],
   "source": [
    "loss = tf.reduce_mean(tf.square(y_target - model_output))\n",
    "init = tf.global_variables_initializer()\n",
    "sess.run(init)\n",
    "my_opt = tf.train.GradientDescentOptimizer(learning_rate)\n",
    "train_step = my_opt.minimize(loss)\n"
   ]
  },
  {
   "cell_type": "markdown",
   "metadata": {},
   "source": [
    "### 使用随机梯度下降法进行训练，并输出测试结果"
   ]
  },
  {
   "cell_type": "code",
   "execution_count": 17,
   "metadata": {},
   "outputs": [],
   "source": [
    "for i in range(500):\n",
    "    rand_index = np.random.choice(len(x_vals), size=batch_size)\n",
    "    rand_x = x_vals[rand_index]\n",
    "    rand_y = y_vals[rand_index]\n",
    "    sess.run(train_step, feed_dict={x_data: rand_x, y_target: rand_y})\n",
    "\n"
   ]
  },
  {
   "cell_type": "code",
   "execution_count": 19,
   "metadata": {},
   "outputs": [
    {
     "name": "stdout",
     "output_type": "stream",
     "text": [
      "19.732353\n"
     ]
    }
   ],
   "source": [
    "[k] = sess.run(w)\n",
    "predict = 20 * k\n",
    "print(predict[0])"
   ]
  },
  {
   "cell_type": "code",
   "execution_count": null,
   "metadata": {},
   "outputs": [],
   "source": []
  },
  {
   "cell_type": "code",
   "execution_count": null,
   "metadata": {},
   "outputs": [],
   "source": []
  }
 ],
 "metadata": {
  "kernelspec": {
   "display_name": "Python 3",
   "language": "python",
   "name": "python3"
  },
  "language_info": {
   "codemirror_mode": {
    "name": "ipython",
    "version": 3
   },
   "file_extension": ".py",
   "mimetype": "text/x-python",
   "name": "python",
   "nbconvert_exporter": "python",
   "pygments_lexer": "ipython3",
   "version": "3.6.9"
  }
 },
 "nbformat": 4,
 "nbformat_minor": 2
}
