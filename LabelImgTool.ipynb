{
 "metadata": {
  "language_info": {
   "codemirror_mode": {
    "name": "ipython",
    "version": 3
   },
   "file_extension": ".py",
   "mimetype": "text/x-python",
   "name": "python",
   "nbconvert_exporter": "python",
   "pygments_lexer": "ipython3",
   "version": "3.7.9"
  },
  "orig_nbformat": 2,
  "kernelspec": {
   "name": "python3",
   "display_name": "Python 3.7.9 64-bit",
   "metadata": {
    "interpreter": {
     "hash": "3307c55a7c361b52abc3ba24bce9a570f79d6541dfaf9a464e9249a062d06872"
    }
   }
  }
 },
 "nbformat": 4,
 "nbformat_minor": 2,
 "cells": [
  {
   "cell_type": "code",
   "execution_count": 9,
   "metadata": {},
   "outputs": [],
   "source": [
    "import os\n",
    "import shutil\n",
    " \n",
    "file_path = './20210811/' #圖片路徑;同样也是xml保存的路径\n",
    "\n",
    "files = os.listdir(file_path)\n",
    "for file in files:\n",
    "    if file.endswith('jpg'):\n",
    "        filename = file.split('.')[0]\n",
    "        shutil.copyfile(\"20210811_frame712.txt\",file_path + filename + '.txt')"
   ]
  },
  {
   "cell_type": "code",
   "execution_count": null,
   "metadata": {},
   "outputs": [],
   "source": []
  }
 ]
}