{
 "cells": [
  {
   "cell_type": "markdown",
   "metadata": {},
   "source": [
    "# 抽象工厂模式"
   ]
  },
  {
   "cell_type": "markdown",
   "metadata": {},
   "source": [
    "定义一个工厂类接口，让工厂子类来创建一系列相关或相互依耐的对象  \n",
    "优点：  \n",
    "将客户端与具体类的实现分离  \n",
    "每个工厂创建了一个完整的产品系列，使得易于交换产品系列  \n",
    "有利于产品的一致性(即产品之间的约束关系)  \n",
    "缺点：  \n",
    "难以支持新种类的(抽象)产品"
   ]
  },
  {
   "cell_type": "markdown",
   "metadata": {},
   "source": []
  }
 ],
 "metadata": {
  "interpreter": {
   "hash": "0600588c3b5f4418cbe7b5ebc6825b479f3bc010269d8b60d75058cdd010adfe"
  },
  "kernelspec": {
   "display_name": "Python 3.7.9 64-bit",
   "name": "python3"
  },
  "language_info": {
   "name": "python",
   "version": "3.7.9"
  },
  "orig_nbformat": 4
 },
 "nbformat": 4,
 "nbformat_minor": 2
}
