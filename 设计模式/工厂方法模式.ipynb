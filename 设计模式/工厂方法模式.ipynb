{
 "cells": [
  {
   "cell_type": "markdown",
   "metadata": {},
   "source": [
    "# 工厂方法模式"
   ]
  },
  {
   "cell_type": "markdown",
   "metadata": {},
   "source": [
    "定义一个创建对象的接口（工厂接口）,让子类决定实例化哪一个产品类\n",
    "角色：  \n",
    "1.抽象工厂角色creator  \n",
    "2.具体工厂角色concrete creator  \n",
    "3.抽象产品角色product  \n",
    "4.具体产品角色concrete product  \n",
    "\n",
    "优点：  \n",
    "每个具体的产品都对应一个具体工厂类,不需要修改工厂类代码  \n",
    "隐藏了对象创建的实现细节  \n",
    "缺点：  \n",
    "每增加一个具体的产品类，就必须增加一个相应的具体工厂类"
   ]
  },
  {
   "cell_type": "code",
   "execution_count": 5,
   "metadata": {},
   "outputs": [
    {
     "name": "stdout",
     "output_type": "stream",
     "text": [
      "支付宝支付10元\n"
     ]
    }
   ],
   "source": [
    "from abc import ABCMeta,abstractmethod\n",
    "\n",
    "class PayMent(metaclass = ABCMeta):\n",
    "    @abstractmethod\n",
    "    def pay(self,money):\n",
    "        pass\n",
    "\n",
    "class Alipay(PayMent):\n",
    "    def __init__(self,huabei = False):\n",
    "        self.huabei = huabei\n",
    "\n",
    "    def pay(self,money):\n",
    "        if self.huabei:\n",
    "            print(f'花呗支付{money}元')\n",
    "        else:\n",
    "            print(f'支付宝支付{money}元')\n",
    "\n",
    "class WeChatpay(PayMent):\n",
    "    def pay(self,money):\n",
    "        print(f'微信支付{money}元')\n",
    "\n",
    "class PaymentFactory(metaclass = ABCMeta):\n",
    "    @abstractmethod\n",
    "    def create_payment(self):\n",
    "        pass\n",
    "\n",
    "class AlipayFactory(PaymentFactory):\n",
    "    def create_payment(self):\n",
    "        return Alipay()\n",
    "\n",
    "class WechatFactory(PaymentFactory):\n",
    "    def create_payment(self):\n",
    "        return WeChatpay()\n",
    "\n",
    "class HuabeiFactory(PaymentFactory):\n",
    "    def create_payment(self):\n",
    "        return Alipay(huabei = True)\n",
    "\n",
    "pf = AlipayFactory()\n",
    "p = pf.create_payment()\n",
    "p.pay(10)"
   ]
  },
  {
   "cell_type": "code",
   "execution_count": null,
   "metadata": {},
   "outputs": [],
   "source": []
  }
 ],
 "metadata": {
  "interpreter": {
   "hash": "0600588c3b5f4418cbe7b5ebc6825b479f3bc010269d8b60d75058cdd010adfe"
  },
  "kernelspec": {
   "display_name": "Python 3.7.9 64-bit",
   "name": "python3"
  },
  "language_info": {
   "codemirror_mode": {
    "name": "ipython",
    "version": 3
   },
   "file_extension": ".py",
   "mimetype": "text/x-python",
   "name": "python",
   "nbconvert_exporter": "python",
   "pygments_lexer": "ipython3",
   "version": "3.7.9"
  },
  "orig_nbformat": 4
 },
 "nbformat": 4,
 "nbformat_minor": 2
}
