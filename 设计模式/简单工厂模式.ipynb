{
 "cells": [
  {
   "cell_type": "markdown",
   "metadata": {},
   "source": [
    "# 简单工厂模式"
   ]
  },
  {
   "cell_type": "markdown",
   "metadata": {},
   "source": []
  },
  {
   "cell_type": "markdown",
   "metadata": {},
   "source": [
    "不直接向客户端暴露对象创建的实现细节，而是通过一个工厂类来负责创建产品类的实例  \n",
    "角色：  \n",
    "    1.工厂角色  \n",
    "    2.抽象产品角色  \n",
    "    3.具体产品角色  "
   ]
  },
  {
   "cell_type": "code",
   "execution_count": 6,
   "metadata": {},
   "outputs": [
    {
     "name": "stdout",
     "output_type": "stream",
     "text": [
      "花呗支付10元\n"
     ]
    }
   ],
   "source": [
    "from abc import ABCMeta,abstractmethod\n",
    "\n",
    "class PayMent(metaclass = ABCMeta):\n",
    "    @abstractmethod\n",
    "    def pay(self,money):\n",
    "        pass\n",
    "\n",
    "class Alipay(PayMent):\n",
    "    def __init__(self,huabei = False):\n",
    "        self.huabei = huabei\n",
    "\n",
    "    def pay(self,money):\n",
    "        if self.huabei:\n",
    "            print(f'花呗支付{money}元')\n",
    "        else:\n",
    "            print(f'支付宝支付{money}元')\n",
    "\n",
    "class WeChatpay(PayMent):\n",
    "    def pay(self,money):\n",
    "        print(f'微信支付{money}元')\n",
    "\n",
    "class PaymentFactory:\n",
    "    def create(self,method):\n",
    "        if method ==\"alipay\":\n",
    "            return Alipay()\n",
    "        elif method == \"wechat\":\n",
    "            return WeChatpay()\n",
    "        elif method == \"huabei\":\n",
    "            return Alipay(huabei = True)\n",
    "        else:\n",
    "            raise TypeError(f\"no suchpayment named {method}\")\n",
    "\n",
    "pf = PaymentFactory()\n",
    "p = pf.create(\"huabei\")\n",
    "p.pay(10)"
   ]
  },
  {
   "cell_type": "code",
   "execution_count": null,
   "metadata": {},
   "outputs": [],
   "source": []
  },
  {
   "cell_type": "code",
   "execution_count": null,
   "metadata": {},
   "outputs": [],
   "source": []
  }
 ],
 "metadata": {
  "interpreter": {
   "hash": "0600588c3b5f4418cbe7b5ebc6825b479f3bc010269d8b60d75058cdd010adfe"
  },
  "kernelspec": {
   "display_name": "Python 3.7.9 64-bit",
   "name": "python3"
  },
  "language_info": {
   "codemirror_mode": {
    "name": "ipython",
    "version": 3
   },
   "file_extension": ".py",
   "mimetype": "text/x-python",
   "name": "python",
   "nbconvert_exporter": "python",
   "pygments_lexer": "ipython3",
   "version": "3.7.9"
  },
  "orig_nbformat": 4
 },
 "nbformat": 4,
 "nbformat_minor": 2
}
